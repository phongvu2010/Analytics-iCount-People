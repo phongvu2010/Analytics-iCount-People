{
 "cells": [
  {
   "cell_type": "code",
   "execution_count": 1,
   "metadata": {},
   "outputs": [],
   "source": [
    "import numpy as np\n",
    "import pandas as pd\n",
    "import refesh_data as db\n",
    "\n",
    "from datetime import datetime"
   ]
  },
  {
   "cell_type": "code",
   "execution_count": 2,
   "metadata": {},
   "outputs": [
    {
     "data": {
      "text/html": [
       "<div>\n",
       "<style scoped>\n",
       "    .dataframe tbody tr th:only-of-type {\n",
       "        vertical-align: middle;\n",
       "    }\n",
       "\n",
       "    .dataframe tbody tr th {\n",
       "        vertical-align: top;\n",
       "    }\n",
       "\n",
       "    .dataframe thead th {\n",
       "        text-align: right;\n",
       "    }\n",
       "</style>\n",
       "<table border=\"1\" class=\"dataframe\">\n",
       "  <thead>\n",
       "    <tr style=\"text-align: right;\">\n",
       "      <th></th>\n",
       "      <th>recordtime</th>\n",
       "      <th>in_num</th>\n",
       "      <th>out_num</th>\n",
       "      <th>position</th>\n",
       "      <th>storeid</th>\n",
       "    </tr>\n",
       "  </thead>\n",
       "  <tbody>\n",
       "    <tr>\n",
       "      <th>0</th>\n",
       "      <td>2023-02-15 09:49:00</td>\n",
       "      <td>18</td>\n",
       "      <td>5</td>\n",
       "      <td>Parking</td>\n",
       "      <td>36</td>\n",
       "    </tr>\n",
       "    <tr>\n",
       "      <th>1</th>\n",
       "      <td>2023-02-15 09:54:00</td>\n",
       "      <td>17</td>\n",
       "      <td>7</td>\n",
       "      <td>Parking</td>\n",
       "      <td>36</td>\n",
       "    </tr>\n",
       "    <tr>\n",
       "      <th>2</th>\n",
       "      <td>2023-02-15 09:59:00</td>\n",
       "      <td>12</td>\n",
       "      <td>5</td>\n",
       "      <td>Parking</td>\n",
       "      <td>36</td>\n",
       "    </tr>\n",
       "    <tr>\n",
       "      <th>3</th>\n",
       "      <td>2023-02-15 10:04:00</td>\n",
       "      <td>9</td>\n",
       "      <td>5</td>\n",
       "      <td>Parking</td>\n",
       "      <td>36</td>\n",
       "    </tr>\n",
       "    <tr>\n",
       "      <th>4</th>\n",
       "      <td>2023-02-15 10:09:00</td>\n",
       "      <td>15</td>\n",
       "      <td>4</td>\n",
       "      <td>Parking</td>\n",
       "      <td>36</td>\n",
       "    </tr>\n",
       "  </tbody>\n",
       "</table>\n",
       "</div>"
      ],
      "text/plain": [
       "           recordtime  in_num  out_num                        position  \\\n",
       "0 2023-02-15 09:49:00      18        5  Parking                          \n",
       "1 2023-02-15 09:54:00      17        7  Parking                          \n",
       "2 2023-02-15 09:59:00      12        5  Parking                          \n",
       "3 2023-02-15 10:04:00       9        5  Parking                          \n",
       "4 2023-02-15 10:09:00      15        4  Parking                          \n",
       "\n",
       "   storeid  \n",
       "0       36  \n",
       "1       36  \n",
       "2       36  \n",
       "3       36  \n",
       "4       36  "
      ]
     },
     "execution_count": 2,
     "metadata": {},
     "output_type": "execute_result"
    }
   ],
   "source": [
    "def getNumCrowd():\n",
    "    return db.dbNumCrowd(2023)\n",
    "\n",
    "db_store = getNumCrowd()\n",
    "db_store.head(5)"
   ]
  },
  {
   "cell_type": "code",
   "execution_count": null,
   "metadata": {},
   "outputs": [],
   "source": [
    "# Daily:   [y = None, d = '2023-03-10', w = None                 , m = None   , q = None]\n",
    "# Weekly:  [y = 2023, d = None        , w = 'WK1 (01/01 - 01/01)', m = None   , q = None]\n",
    "# Monthly: [y = 2023, d = None        , w = None                 , m = 'April', q = None]\n",
    "# Quarter: [y = 2023, d = None        , w = None                 , m = None   , q = 0   ]\n",
    "# Yearly:  [y = 2023, d = None        , w = None                 , m = None   , q = None]\n",
    "\n",
    "# 2023-04-20 - <class 'datetime.date'>\n",
    "# WK1 (01/01 - 01/01) - <class 'str'>\n",
    "# April - <class 'str'>\n",
    "# 0 - <class 'int'>\n",
    "# 2023 - <class 'int'>"
   ]
  },
  {
   "cell_type": "code",
   "execution_count": null,
   "metadata": {},
   "outputs": [],
   "source": [
    "def filter_data(data, store = 0, d = None, w = None, m = None, q = None, y = None):\n",
    "    if (not y) and d:\n",
    "        # print('Daily')\n",
    "        data = data[data.recordtime.dt.date == d]\n",
    "    else:\n",
    "        data = data[data.recordtime.dt.year == y]\n",
    "        if w:\n",
    "            print('Weekly')\n",
    "            data = data[data.recordtime.dt.date >= w[0] & data.recordtime.dt.date <= w[1]]\n",
    "        elif m:\n",
    "            # print('Monthly')\n",
    "            data = data[data.recordtime.dt.strftime('%B') == m]\n",
    "        elif q:\n",
    "            # print('Quarter')\n",
    "            data = data[data.recordtime.dt.to_period('Q').dt.strftime('%q').astype(int) == q + 1]\n",
    "\n",
    "    if store > 0:\n",
    "        data = data[data.storeid == store]\n",
    "\n",
    "    return data"
   ]
  },
  {
   "cell_type": "code",
   "execution_count": null,
   "metadata": {},
   "outputs": [],
   "source": [
    "data = db_store.copy()\n",
    "\n",
    "d = datetime.strptime('2023-03-17', '%Y-%m-%d').date()\n",
    "df_daily = filter_data(data, 'All', d = d)\n",
    "df_daily\n",
    "\n",
    "# df_weekly = filter_data(data, 'All', w = 'WK1 (01/01 - 01/01)', y = 2023)\n",
    "# df_weekly\n",
    "\n",
    "# df_monthly = filter_data(data, 'All', m = 'April', y = 2023)\n",
    "# df_monthly\n",
    "\n",
    "# df_quarter = filter_data(data, 'All', q = 4, y = 2022)\n",
    "# df_quarter\n",
    "\n",
    "# df_yearly = filter_data(data, 'All', y = 2021)\n",
    "# df_yearly"
   ]
  },
  {
   "cell_type": "code",
   "execution_count": null,
   "metadata": {},
   "outputs": [],
   "source": [
    "df = db_store.tail(205600).copy()\n",
    "df['w'] = df['recordtime'].dt.strftime('%V').astype(int)\n",
    "# df['s'] = df['w'].shift(1)\n",
    "# df['week_num'] = np.where(df['s'].isna(), 1, df['w'] + 1)\n",
    "# group = df.groupby('week_num').agg({'recordtime': ['min', 'max']}).reset_index()\n",
    "# group['week'] = 'WK' + group['week_num'].astype(str) + \\\n",
    "#                 ' (' + group['recordtime']['min'].dt.strftime('%d/%m') + \\\n",
    "#                 ' - ' + group['recordtime']['max'].dt.strftime('%d/%m') + ')'\n",
    "\n",
    "# df['week'] = df['recordtime'].dt.isocalendar().week\n",
    "\n",
    "df.head()"
   ]
  },
  {
   "cell_type": "code",
   "execution_count": null,
   "metadata": {},
   "outputs": [],
   "source": [
    "def getWeekNums(year):\n",
    "    start_date = '1/1/' + year\n",
    "    end_date = '31/12/' + year\n",
    "    data = pd.date_range(start = start_date, end = end_date, freq = 'D')\n",
    "\n",
    "    df = pd.DataFrame(data, columns = ['date'])\n",
    "\n",
    "    df['w'] = df['date'].dt.strftime('%V').astype(int)\n",
    "    df['s'] = df['w'].shift(1)\n",
    "    df['week_num'] = np.where(df['s'].isna(), 1, df['w'] + 1)\n",
    "    group = df.groupby('week_num').agg({'date': ['min', 'max']}).reset_index()\n",
    "    group['week'] = 'WK' + group['week_num'].astype(str) + \\\n",
    "                    ' (' + group['date']['min'].dt.strftime('%d/%m') + \\\n",
    "                    ' - ' + group['date']['max'].dt.strftime('%d/%m') + ')'\n",
    "\n",
    "    return group\n",
    "\n",
    "df = getWeekNums('2023')\n",
    "df.head(2)"
   ]
  },
  {
   "cell_type": "code",
   "execution_count": null,
   "metadata": {},
   "outputs": [],
   "source": [
    "w = 7\n",
    "a = (df.loc(0)[w][1], df.loc(0)[w][2])\n",
    "a"
   ]
  }
 ],
 "metadata": {
  "kernelspec": {
   "display_name": ".venv",
   "language": "python",
   "name": "python3"
  },
  "language_info": {
   "codemirror_mode": {
    "name": "ipython",
    "version": 3
   },
   "file_extension": ".py",
   "mimetype": "text/x-python",
   "name": "python",
   "nbconvert_exporter": "python",
   "pygments_lexer": "ipython3",
   "version": "3.11.1"
  },
  "orig_nbformat": 4
 },
 "nbformat": 4,
 "nbformat_minor": 2
}
