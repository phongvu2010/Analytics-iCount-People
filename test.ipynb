{
 "cells": [
  {
   "cell_type": "code",
   "execution_count": null,
   "metadata": {},
   "outputs": [],
   "source": [
    "# df = num_rowd.copy()\n",
    "# df['year'] = df.recordtime.dt.year\n",
    "# df['quarter'] = df.recordtime.dt.to_period('Q').dt.strftime('%q').astype(int)\n",
    "# df['monthly'] = df.recordtime.dt.strftime('%B')\n",
    "# df['weekly'] = df.recordtime.dt.strftime('%W').astype(int)\n",
    "# df['daily'] = df.recordtime.dt.date\n",
    "\n",
    "# df.head(10)"
   ]
  },
  {
   "cell_type": "code",
   "execution_count": 1,
   "metadata": {},
   "outputs": [],
   "source": [
    "import numpy as np\n",
    "import pandas as pd\n",
    "import dataset as ds\n",
    "\n",
    "from datetime import datetime"
   ]
  },
  {
   "cell_type": "code",
   "execution_count": 2,
   "metadata": {},
   "outputs": [],
   "source": [
    "num_rowd = ds.dbNumCrowd()"
   ]
  },
  {
   "cell_type": "code",
   "execution_count": 3,
   "metadata": {},
   "outputs": [],
   "source": [
    "def filter_data(data, store, date = None, year = None, week = None, month = None, quarter = None):\n",
    "    if date:\n",
    "        data = data[data.recordtime.dt.date == date]\n",
    "    else:\n",
    "        data = data[data.recordtime.dt.year == year]\n",
    "        if isinstance(week, int):\n",
    "            data = data[data.recordtime.dt.strftime('%W').astype(int) == week]\n",
    "        elif month:\n",
    "            data = data[data.recordtime.dt.strftime('%B') == month]\n",
    "        elif isinstance(quarter, int):\n",
    "            data = data[data.recordtime.dt.to_period('Q').dt.strftime('%q').astype(int) == quarter + 1]\n",
    "    \n",
    "    if store > 0:\n",
    "        data = data[data.storeid == store]\n",
    "\n",
    "    return data.sort_values(by = 'recordtime', ascending = True).reset_index(drop = True)"
   ]
  },
  {
   "cell_type": "code",
   "execution_count": 4,
   "metadata": {},
   "outputs": [],
   "source": [
    "def set_variables(df, store_selected = 0, option_selected = 'Daily'):\n",
    "    data = df.copy()\n",
    "    date_selected, week_selected, month_selected, quarter_selected, year_selected = None, None, None, None, None\n",
    "\n",
    "    if option_selected == 'Daily':\n",
    "        date_selected = datetime(2022, 6, 2).date()\n",
    "    else:\n",
    "        year_selected = 2023\n",
    "        if option_selected == 'Weekly':\n",
    "            week_selected = 2\n",
    "        elif option_selected == 'Monthly':\n",
    "            month_selected = 'January'\n",
    "        elif option_selected == 'Quarter':\n",
    "            quarter_selected = 0\n",
    "\n",
    "    return data, store_selected, date_selected, week_selected, month_selected, quarter_selected, year_selected\n"
   ]
  },
  {
   "cell_type": "code",
   "execution_count": 36,
   "metadata": {},
   "outputs": [],
   "source": [
    "def clean_data(data, option, period = None):\n",
    "    df = data.copy()\n",
    "\n",
    "    df.drop(columns = ['position', 'storeid'], axis = 1, inplace = True)\n",
    "\n",
    "    df['in_num'] = df.in_num.where(df.in_num < 200, df.in_num * 0.01).apply(np.int64)\n",
    "    df['out_num'] = df.out_num.where(df.out_num < 200, df.out_num * 0.01).apply(np.int64)\n",
    "\n",
    "    if option == 'Daily':\n",
    "        freqs = ['5min', '15min', '30min', 'H']\n",
    "        df = df.resample(freqs[period], on = 'recordtime').sum()\n",
    "    elif option == 'Weekly':\n",
    "        df = df.resample('D', on = 'recordtime').sum().reset_index()\n",
    "        df['day_name'] = df.recordtime.dt.day_name()\n",
    "        df.set_index(['recordtime', 'day_name'], inplace = True)\n",
    "    elif option == 'Monthly':\n",
    "        df = df.resample('D', on = 'recordtime').sum()#.reset_index()\n",
    "    else:\n",
    "        df = df.resample('M', on = 'recordtime').sum().reset_index()\n",
    "        df['recordtime'] = df.recordtime.dt.strftime('%Y-%m')\n",
    "        df.set_index('recordtime', inplace = True)\n",
    "    \n",
    "    return df"
   ]
  },
  {
   "cell_type": "code",
   "execution_count": 45,
   "metadata": {},
   "outputs": [],
   "source": [
    "option = ['Daily', 'Weekly', 'Monthly', 'Quarter', 'Yearly']\n",
    "option_selected = option[4]\n",
    "\n",
    "variables = set_variables(num_rowd.copy(), option_selected = option_selected)\n",
    "\n",
    "data = variables[0]\n",
    "store_selected = variables[1]\n",
    "date_selected = variables[2]\n",
    "week_selected = variables[3]\n",
    "month_selected = variables[4]\n",
    "quarter_selected = variables[5]\n",
    "year_selected = variables[6]\n",
    "\n",
    "df = filter_data(data, store_selected, date_selected, year_selected, week_selected, month_selected, quarter_selected)"
   ]
  },
  {
   "cell_type": "code",
   "execution_count": 46,
   "metadata": {},
   "outputs": [
    {
     "data": {
      "text/html": [
       "<div>\n",
       "<style scoped>\n",
       "    .dataframe tbody tr th:only-of-type {\n",
       "        vertical-align: middle;\n",
       "    }\n",
       "\n",
       "    .dataframe tbody tr th {\n",
       "        vertical-align: top;\n",
       "    }\n",
       "\n",
       "    .dataframe thead th {\n",
       "        text-align: right;\n",
       "    }\n",
       "</style>\n",
       "<table border=\"1\" class=\"dataframe\">\n",
       "  <thead>\n",
       "    <tr style=\"text-align: right;\">\n",
       "      <th></th>\n",
       "      <th>in_num</th>\n",
       "      <th>out_num</th>\n",
       "    </tr>\n",
       "    <tr>\n",
       "      <th>recordtime</th>\n",
       "      <th></th>\n",
       "      <th></th>\n",
       "    </tr>\n",
       "  </thead>\n",
       "  <tbody>\n",
       "    <tr>\n",
       "      <th>2023-01</th>\n",
       "      <td>582462</td>\n",
       "      <td>584679</td>\n",
       "    </tr>\n",
       "    <tr>\n",
       "      <th>2023-02</th>\n",
       "      <td>695029</td>\n",
       "      <td>710882</td>\n",
       "    </tr>\n",
       "    <tr>\n",
       "      <th>2023-03</th>\n",
       "      <td>984057</td>\n",
       "      <td>1028978</td>\n",
       "    </tr>\n",
       "    <tr>\n",
       "      <th>2023-04</th>\n",
       "      <td>5772695</td>\n",
       "      <td>6165439</td>\n",
       "    </tr>\n",
       "  </tbody>\n",
       "</table>\n",
       "</div>"
      ],
      "text/plain": [
       "             in_num  out_num\n",
       "recordtime                  \n",
       "2023-01      582462   584679\n",
       "2023-02      695029   710882\n",
       "2023-03      984057  1028978\n",
       "2023-04     5772695  6165439"
      ]
     },
     "execution_count": 46,
     "metadata": {},
     "output_type": "execute_result"
    }
   ],
   "source": [
    "period_selected = 3\n",
    "\n",
    "df_1 = clean_data(df, option_selected, period_selected)\n",
    "df_1"
   ]
  },
  {
   "cell_type": "code",
   "execution_count": null,
   "metadata": {},
   "outputs": [],
   "source": []
  },
  {
   "cell_type": "code",
   "execution_count": null,
   "metadata": {},
   "outputs": [],
   "source": []
  },
  {
   "cell_type": "code",
   "execution_count": null,
   "metadata": {},
   "outputs": [],
   "source": [
    "# d = datetime(2023, 3, 2).date()\n",
    "\n",
    "pd.date_range(datetime.combine(datetime(2023, 3, 21), datetime.min.time()), \n",
    "              datetime.combine(datetime(2023, 3, 21), datetime.max.time()), freq = '15min')\n",
    "\n",
    "# https://www.appsloveworld.com/pandas/100/54/sum-based-on-date-range-in-two-separate-columns"
   ]
  }
 ],
 "metadata": {
  "kernelspec": {
   "display_name": ".venv",
   "language": "python",
   "name": "python3"
  },
  "language_info": {
   "codemirror_mode": {
    "name": "ipython",
    "version": 3
   },
   "file_extension": ".py",
   "mimetype": "text/x-python",
   "name": "python",
   "nbconvert_exporter": "python",
   "pygments_lexer": "ipython3",
   "version": "3.11.1"
  },
  "orig_nbformat": 4
 },
 "nbformat": 4,
 "nbformat_minor": 2
}
